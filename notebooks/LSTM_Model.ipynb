{
 "cells": [
  {
   "cell_type": "code",
   "execution_count": 1,
   "metadata": {},
   "outputs": [],
   "source": [
    "%load_ext autotime\n",
    "\n",
    "import os\n",
    "import sys\n",
    "import math\n",
    "import pandas as pd\n",
    "import numpy as np\n",
    "import tensorflow as tf\n",
    "import matplotlib.pyplot as plt\n",
    "import seaborn as sns\n",
    "import tensorflow as tf\n",
    "import matplotlib.patches as mpatches\n",
    "import nltk\n",
    "\n",
    "from nltk.corpus import stopwords\n",
    "from sklearn.model_selection import train_test_split\n",
    "from sklearn.preprocessing import LabelEncoder\n",
    "from tensorflow.keras.models import Model\n",
    "from tensorflow.keras.layers import LSTM, Activation, Dense, Dropout, Input, Embedding\n",
    "from tensorflow.keras.optimizers import RMSprop\n",
    "from tensorflow.keras.preprocessing.text import Tokenizer\n",
    "from tensorflow.keras.preprocessing import sequence\n",
    "from tensorflow.keras.utils import to_categorical\n",
    "from tensorflow.keras.callbacks import EarlyStopping"
   ]
  },
  {
   "cell_type": "code",
   "execution_count": 2,
   "metadata": {},
   "outputs": [
    {
     "name": "stdout",
     "output_type": "stream",
     "text": [
      "time: 66.8 ms\n"
     ]
    }
   ],
   "source": [
    "train_df = pd.read_csv('../data/raw/liar_dataset/train.tsv', delimiter='\\t', header = None)\n",
    "valid_df = pd.read_csv('../data/raw/liar_dataset/valid.tsv', delimiter='\\t', header = None)\n",
    "test_df = pd.read_csv('../data/raw/liar_dataset/test.tsv', delimiter='\\t', header = None)"
   ]
  },
  {
   "cell_type": "code",
   "execution_count": 3,
   "metadata": {},
   "outputs": [
    {
     "data": {
      "text/html": [
       "<div>\n",
       "<style scoped>\n",
       "    .dataframe tbody tr th:only-of-type {\n",
       "        vertical-align: middle;\n",
       "    }\n",
       "\n",
       "    .dataframe tbody tr th {\n",
       "        vertical-align: top;\n",
       "    }\n",
       "\n",
       "    .dataframe thead th {\n",
       "        text-align: right;\n",
       "    }\n",
       "</style>\n",
       "<table border=\"1\" class=\"dataframe\">\n",
       "  <thead>\n",
       "    <tr style=\"text-align: right;\">\n",
       "      <th></th>\n",
       "      <th>0</th>\n",
       "      <th>1</th>\n",
       "      <th>2</th>\n",
       "      <th>3</th>\n",
       "      <th>4</th>\n",
       "      <th>5</th>\n",
       "      <th>6</th>\n",
       "      <th>7</th>\n",
       "      <th>8</th>\n",
       "      <th>9</th>\n",
       "      <th>10</th>\n",
       "      <th>11</th>\n",
       "      <th>12</th>\n",
       "      <th>13</th>\n",
       "    </tr>\n",
       "  </thead>\n",
       "  <tbody>\n",
       "    <tr>\n",
       "      <th>0</th>\n",
       "      <td>11972.json</td>\n",
       "      <td>true</td>\n",
       "      <td>Building a wall on the U.S.-Mexico border will...</td>\n",
       "      <td>immigration</td>\n",
       "      <td>rick-perry</td>\n",
       "      <td>Governor</td>\n",
       "      <td>Texas</td>\n",
       "      <td>republican</td>\n",
       "      <td>30</td>\n",
       "      <td>30</td>\n",
       "      <td>42</td>\n",
       "      <td>23</td>\n",
       "      <td>18</td>\n",
       "      <td>Radio interview</td>\n",
       "    </tr>\n",
       "    <tr>\n",
       "      <th>1</th>\n",
       "      <td>11685.json</td>\n",
       "      <td>false</td>\n",
       "      <td>Wisconsin is on pace to double the number of l...</td>\n",
       "      <td>jobs</td>\n",
       "      <td>katrina-shankland</td>\n",
       "      <td>State representative</td>\n",
       "      <td>Wisconsin</td>\n",
       "      <td>democrat</td>\n",
       "      <td>2</td>\n",
       "      <td>1</td>\n",
       "      <td>0</td>\n",
       "      <td>0</td>\n",
       "      <td>0</td>\n",
       "      <td>a news conference</td>\n",
       "    </tr>\n",
       "    <tr>\n",
       "      <th>2</th>\n",
       "      <td>11096.json</td>\n",
       "      <td>false</td>\n",
       "      <td>Says John McCain has done nothing to help the ...</td>\n",
       "      <td>military,veterans,voting-record</td>\n",
       "      <td>donald-trump</td>\n",
       "      <td>President-Elect</td>\n",
       "      <td>New York</td>\n",
       "      <td>republican</td>\n",
       "      <td>63</td>\n",
       "      <td>114</td>\n",
       "      <td>51</td>\n",
       "      <td>37</td>\n",
       "      <td>61</td>\n",
       "      <td>comments on ABC's This Week.</td>\n",
       "    </tr>\n",
       "    <tr>\n",
       "      <th>3</th>\n",
       "      <td>5209.json</td>\n",
       "      <td>half-true</td>\n",
       "      <td>Suzanne Bonamici supports a plan that will cut...</td>\n",
       "      <td>medicare,message-machine-2012,campaign-adverti...</td>\n",
       "      <td>rob-cornilles</td>\n",
       "      <td>consultant</td>\n",
       "      <td>Oregon</td>\n",
       "      <td>republican</td>\n",
       "      <td>1</td>\n",
       "      <td>1</td>\n",
       "      <td>3</td>\n",
       "      <td>1</td>\n",
       "      <td>1</td>\n",
       "      <td>a radio show</td>\n",
       "    </tr>\n",
       "    <tr>\n",
       "      <th>4</th>\n",
       "      <td>9524.json</td>\n",
       "      <td>pants-fire</td>\n",
       "      <td>When asked by a reporter whether hes at the ce...</td>\n",
       "      <td>campaign-finance,legal-issues,campaign-adverti...</td>\n",
       "      <td>state-democratic-party-wisconsin</td>\n",
       "      <td>NaN</td>\n",
       "      <td>Wisconsin</td>\n",
       "      <td>democrat</td>\n",
       "      <td>5</td>\n",
       "      <td>7</td>\n",
       "      <td>2</td>\n",
       "      <td>2</td>\n",
       "      <td>7</td>\n",
       "      <td>a web video</td>\n",
       "    </tr>\n",
       "  </tbody>\n",
       "</table>\n",
       "</div>"
      ],
      "text/plain": [
       "           0           1                                                  2   \\\n",
       "0  11972.json        true  Building a wall on the U.S.-Mexico border will...   \n",
       "1  11685.json       false  Wisconsin is on pace to double the number of l...   \n",
       "2  11096.json       false  Says John McCain has done nothing to help the ...   \n",
       "3   5209.json   half-true  Suzanne Bonamici supports a plan that will cut...   \n",
       "4   9524.json  pants-fire  When asked by a reporter whether hes at the ce...   \n",
       "\n",
       "                                                  3   \\\n",
       "0                                        immigration   \n",
       "1                                               jobs   \n",
       "2                    military,veterans,voting-record   \n",
       "3  medicare,message-machine-2012,campaign-adverti...   \n",
       "4  campaign-finance,legal-issues,campaign-adverti...   \n",
       "\n",
       "                                 4                     5          6   \\\n",
       "0                        rick-perry              Governor      Texas   \n",
       "1                 katrina-shankland  State representative  Wisconsin   \n",
       "2                      donald-trump       President-Elect   New York   \n",
       "3                     rob-cornilles            consultant     Oregon   \n",
       "4  state-democratic-party-wisconsin                   NaN  Wisconsin   \n",
       "\n",
       "           7   8    9   10  11  12                            13  \n",
       "0  republican  30   30  42  23  18               Radio interview  \n",
       "1    democrat   2    1   0   0   0             a news conference  \n",
       "2  republican  63  114  51  37  61  comments on ABC's This Week.  \n",
       "3  republican   1    1   3   1   1                  a radio show  \n",
       "4    democrat   5    7   2   2   7                   a web video  "
      ]
     },
     "execution_count": 3,
     "metadata": {},
     "output_type": "execute_result"
    },
    {
     "name": "stdout",
     "output_type": "stream",
     "text": [
      "time: 25.9 ms\n"
     ]
    }
   ],
   "source": [
    "test_df.head()"
   ]
  },
  {
   "cell_type": "code",
   "execution_count": 4,
   "metadata": {
    "scrolled": true
   },
   "outputs": [
    {
     "name": "stdout",
     "output_type": "stream",
     "text": [
      "time: 18.9 ms\n"
     ]
    }
   ],
   "source": [
    "def map_f(x):\n",
    "    '''\n",
    "    Mapping the label column.\n",
    "    \n",
    "    The function maps 'mostly-true' and 'true' from the label column to 0 \n",
    "    and rest to 1. This creates a classification target as required for \n",
    "    the problem.\n",
    "    \n",
    "    Parameters\n",
    "    ----------\n",
    "    x : Variable from pandas Series\n",
    "    \n",
    "    Returns\n",
    "    -------\n",
    "    None\n",
    "    '''\n",
    "    if x=='mostly-true' or x == 'true':\n",
    "        return 0\n",
    "    else:\n",
    "        return 1\n",
    "    \n",
    "train = pd.DataFrame()\n",
    "valid = pd.DataFrame()\n",
    "test = pd.DataFrame()\n",
    "\n",
    "train['text'] = train_df[2]\n",
    "train['label'] = train_df[1].apply(map_f)\n",
    "\n",
    "valid['text'] = valid_df[2]\n",
    "valid['label'] = valid_df[1].apply(map_f)\n",
    "\n",
    "test['text'] = train_df[2]\n",
    "test['label'] = test_df[1].apply(map_f)\n"
   ]
  },
  {
   "cell_type": "code",
   "execution_count": 5,
   "metadata": {},
   "outputs": [
    {
     "data": {
      "text/plain": [
       "(10240, 1284, 10240)"
      ]
     },
     "execution_count": 5,
     "metadata": {},
     "output_type": "execute_result"
    },
    {
     "name": "stdout",
     "output_type": "stream",
     "text": [
      "time: 4.99 ms\n"
     ]
    }
   ],
   "source": [
    "len(train), len(valid), len(test)"
   ]
  },
  {
   "cell_type": "code",
   "execution_count": 6,
   "metadata": {},
   "outputs": [
    {
     "name": "stdout",
     "output_type": "stream",
     "text": [
      "time: 3.99 ms\n"
     ]
    }
   ],
   "source": [
    "X_train = pd.concat([train, valid])['text']\n",
    "Y_train = pd.concat([train, valid])['label']\n",
    "X_test = test['text']\n",
    "Y_test = test['label']"
   ]
  },
  {
   "cell_type": "code",
   "execution_count": 7,
   "metadata": {},
   "outputs": [
    {
     "data": {
      "text/plain": [
       "Text(0.5, 1.0, 'Number of real and fake news')"
      ]
     },
     "execution_count": 7,
     "metadata": {},
     "output_type": "execute_result"
    },
    {
     "data": {
      "image/png": "[encoded data removed]",
      "text/plain": [
       "<Figure size 432x288 with 1 Axes>"
      ]
     },
     "metadata": {
      "needs_background": "light"
     },
     "output_type": "display_data"
    },
    {
     "name": "stdout",
     "output_type": "stream",
     "text": [
      "time: 131 ms\n"
     ]
    }
   ],
   "source": [
    "sns.countplot(Y_train)\n",
    "plt.xlabel('Label')\n",
    "plt.title('Number of real and fake news')"
   ]
  },
  {
   "cell_type": "code",
   "execution_count": 8,
   "metadata": {},
   "outputs": [
    {
     "name": "stdout",
     "output_type": "stream",
     "text": [
      "time: 546 ms\n"
     ]
    }
   ],
   "source": [
    "max_words = 1000\n",
    "max_len = 150\n",
    "tok = Tokenizer(num_words=max_words)\n",
    "tok.fit_on_texts(X_train)\n",
    "sequences = tok.texts_to_sequences(X_train)\n",
    "sequences_matrix = sequence.pad_sequences(sequences,maxlen=max_len)"
   ]
  },
  {
   "cell_type": "code",
   "execution_count": 9,
   "metadata": {},
   "outputs": [
    {
     "name": "stdout",
     "output_type": "stream",
     "text": [
      "time: 996 µs\n"
     ]
    }
   ],
   "source": [
    "def LSTM_model():\n",
    "    '''\n",
    "    Builds the LSTM Network.\n",
    "    \n",
    "    The function builds LSTM network by taking word embeddings as input and\n",
    "    using LSTM, Dense, Dropout, Dense layer in the specified order. 'ReLU'\n",
    "    is used as activation function in the network and 'sigmoid' is used as\n",
    "    activation function for the classification layer.\n",
    "    \n",
    "    Parameters\n",
    "    ----------\n",
    "    None\n",
    "    '''\n",
    "    inputs = Input(name='inputs',shape=[max_len])\n",
    "    layer = Embedding(max_words,50,input_length=max_len)(inputs)\n",
    "    layer = LSTM(64)(layer)\n",
    "    layer = Dense(256,name='FC1')(layer)\n",
    "    layer = Activation('relu')(layer)\n",
    "    layer = Dropout(0.5)(layer)\n",
    "    layer = Dense(1,name='out_layer')(layer)\n",
    "    layer = Activation('sigmoid')(layer)\n",
    "    model = Model(inputs=inputs,outputs=layer)\n",
    "    return model"
   ]
  },
  {
   "cell_type": "code",
   "execution_count": 12,
   "metadata": {},
   "outputs": [
    {
     "name": "stdout",
     "output_type": "stream",
     "text": [
      "Model: \"model_1\"\n",
      "_________________________________________________________________\n",
      "Layer (type)                 Output Shape              Param #   \n",
      "=================================================================\n",
      "inputs (InputLayer)          [(None, 150)]             0         \n",
      "_________________________________________________________________\n",
      "embedding_1 (Embedding)      (None, 150, 50)           50000     \n",
      "_________________________________________________________________\n",
      "lstm_1 (LSTM)                (None, 64)                29440     \n",
      "_________________________________________________________________\n",
      "FC1 (Dense)                  (None, 256)               16640     \n",
      "_________________________________________________________________\n",
      "activation_2 (Activation)    (None, 256)               0         \n",
      "_________________________________________________________________\n",
      "dropout_1 (Dropout)          (None, 256)               0         \n",
      "_________________________________________________________________\n",
      "out_layer (Dense)            (None, 1)                 257       \n",
      "_________________________________________________________________\n",
      "activation_3 (Activation)    (None, 1)                 0         \n",
      "=================================================================\n",
      "Total params: 96,337\n",
      "Trainable params: 96,337\n",
      "Non-trainable params: 0\n",
      "_________________________________________________________________\n",
      "time: 810 ms\n"
     ]
    }
   ],
   "source": [
    "model = LSTM_model()\n",
    "model.summary()\n",
    "model.compile(loss='binary_crossentropy',optimizer=RMSprop(),metrics=['accuracy'])"
   ]
  },
  {
   "cell_type": "code",
   "execution_count": 13,
   "metadata": {
    "scrolled": true
   },
   "outputs": [
    {
     "name": "stdout",
     "output_type": "stream",
     "text": [
      "Train on 9219 samples, validate on 2305 samples\n",
      "Epoch 1/20\n",
      "9219/9219 [==============================] - 26s 3ms/sample - loss: 0.6523 - acc: 0.6428 - val_loss: 0.6208 - val_acc: 0.6651\n",
      "Epoch 2/20\n",
      "9219/9219 [==============================] - 24s 3ms/sample - loss: 0.6202 - acc: 0.6631 - val_loss: 0.6055 - val_acc: 0.6746\n",
      "Epoch 3/20\n",
      "9219/9219 [==============================] - 26s 3ms/sample - loss: 0.5976 - acc: 0.6815 - val_loss: 0.6133 - val_acc: 0.6729\n",
      "Epoch 4/20\n",
      "9219/9219 [==============================] - 25s 3ms/sample - loss: 0.5838 - acc: 0.6945 - val_loss: 0.6252 - val_acc: 0.6651\n",
      "Epoch 5/20\n",
      "9219/9219 [==============================] - 23s 3ms/sample - loss: 0.5712 - acc: 0.7050 - val_loss: 0.6443 - val_acc: 0.6399\n",
      "Epoch 6/20\n",
      "9219/9219 [==============================] - 23s 3ms/sample - loss: 0.5587 - acc: 0.7191 - val_loss: 0.6728 - val_acc: 0.5961\n",
      "Epoch 7/20\n",
      "9219/9219 [==============================] - 22s 2ms/sample - loss: 0.5490 - acc: 0.7285 - val_loss: 0.7197 - val_acc: 0.5618\n",
      "Epoch 8/20\n",
      "9219/9219 [==============================] - 22s 2ms/sample - loss: 0.5414 - acc: 0.7345 - val_loss: 0.6604 - val_acc: 0.6069\n",
      "Epoch 9/20\n",
      "9219/9219 [==============================] - 21s 2ms/sample - loss: 0.5336 - acc: 0.7408 - val_loss: 0.6909 - val_acc: 0.6030\n",
      "Epoch 10/20\n",
      "9219/9219 [==============================] - 15s 2ms/sample - loss: 0.5244 - acc: 0.7452 - val_loss: 0.7550 - val_acc: 0.6451\n",
      "Epoch 11/20\n",
      "9219/9219 [==============================] - 17s 2ms/sample - loss: 0.5152 - acc: 0.7547 - val_loss: 0.7222 - val_acc: 0.6035\n",
      "Epoch 12/20\n",
      "9219/9219 [==============================] - 20s 2ms/sample - loss: 0.5046 - acc: 0.7642 - val_loss: 0.7858 - val_acc: 0.6226\n",
      "Epoch 13/20\n",
      "9219/9219 [==============================] - 21s 2ms/sample - loss: 0.4930 - acc: 0.7668 - val_loss: 0.7587 - val_acc: 0.5822\n",
      "Epoch 14/20\n",
      "9219/9219 [==============================] - 16s 2ms/sample - loss: 0.4840 - acc: 0.7707 - val_loss: 0.8121 - val_acc: 0.6269\n",
      "Epoch 15/20\n",
      "9219/9219 [==============================] - 20s 2ms/sample - loss: 0.4743 - acc: 0.7792 - val_loss: 0.7605 - val_acc: 0.6304\n",
      "Epoch 16/20\n",
      "9219/9219 [==============================] - 15s 2ms/sample - loss: 0.4611 - acc: 0.7835 - val_loss: 1.9852 - val_acc: 0.3484\n",
      "Epoch 17/20\n",
      "9219/9219 [==============================] - 15s 2ms/sample - loss: 0.4616 - acc: 0.7815 - val_loss: 0.8120 - val_acc: 0.6213\n",
      "Epoch 18/20\n",
      "9219/9219 [==============================] - 16s 2ms/sample - loss: 0.4362 - acc: 0.7940 - val_loss: 0.8026 - val_acc: 0.6208\n",
      "Epoch 19/20\n",
      "9219/9219 [==============================] - 16s 2ms/sample - loss: 0.4223 - acc: 0.8012 - val_loss: 0.9170 - val_acc: 0.5870\n",
      "Epoch 20/20\n",
      "9219/9219 [==============================] - 14s 2ms/sample - loss: 0.4121 - acc: 0.8032 - val_loss: 0.7883 - val_acc: 0.5978\n"
     ]
    },
    {
     "data": {
      "text/plain": [
       "<tensorflow.python.keras.callbacks.History at 0x1cdc1af1a90>"
      ]
     },
     "execution_count": 13,
     "metadata": {},
     "output_type": "execute_result"
    },
    {
     "name": "stdout",
     "output_type": "stream",
     "text": [
      "time: 6min 41s\n"
     ]
    }
   ],
   "source": [
    "model.fit(sequences_matrix,Y_train,batch_size=128,epochs=20,validation_split=0.2)"
   ]
  },
  {
   "cell_type": "code",
   "execution_count": 36,
   "metadata": {},
   "outputs": [
    {
     "name": "stdout",
     "output_type": "stream",
     "text": [
      "time: 996 µs\n"
     ]
    }
   ],
   "source": [
    "X_test = X_test[:1267]\n",
    "Y_test = Y_test[:1267]"
   ]
  },
  {
   "cell_type": "code",
   "execution_count": 37,
   "metadata": {},
   "outputs": [
    {
     "name": "stdout",
     "output_type": "stream",
     "text": [
      "time: 30.9 ms\n"
     ]
    }
   ],
   "source": [
    "test_sequences = tok.texts_to_sequences(X_test)\n",
    "test_sequences_matrix = sequence.pad_sequences(test_sequences,maxlen=max_len)"
   ]
  },
  {
   "cell_type": "code",
   "execution_count": 38,
   "metadata": {},
   "outputs": [
    {
     "name": "stdout",
     "output_type": "stream",
     "text": [
      "time: 648 ms\n"
     ]
    }
   ],
   "source": [
    "y_pred = model.predict(test_sequences_matrix)\n",
    "y_pred = y_pred.argmax(axis=-1)"
   ]
  },
  {
   "cell_type": "code",
   "execution_count": 39,
   "metadata": {},
   "outputs": [
    {
     "name": "stdout",
     "output_type": "stream",
     "text": [
      "              precision    recall  f1-score   support\n",
      "\n",
      "         0.0       0.35      1.00      0.52       449\n",
      "         1.0       0.00      0.00      0.00       818\n",
      "\n",
      "    accuracy                           0.35      1267\n",
      "   macro avg       0.18      0.50      0.26      1267\n",
      "weighted avg       0.13      0.35      0.19      1267\n",
      "\n",
      "time: 7.97 ms\n"
     ]
    },
    {
     "name": "stderr",
     "output_type": "stream",
     "text": [
      "C:\\Users\\sahitesh\\AppData\\Roaming\\Python\\Python37\\site-packages\\sklearn\\metrics\\classification.py:1437: UndefinedMetricWarning: Precision and F-score are ill-defined and being set to 0.0 in labels with no predicted samples.\n",
      "  'precision', 'predicted', average, warn_for)\n"
     ]
    }
   ],
   "source": [
    "from sklearn.metrics import classification_report\n",
    "print(classification_report(Y_test.fillna(0), y_pred))"
   ]
  },
  {
   "cell_type": "code",
   "execution_count": null,
   "metadata": {},
   "outputs": [],
   "source": []
  }
 ],
 "metadata": {
  "kernelspec": {
   "display_name": "Python 3",
   "language": "python",
   "name": "python3"
  },
  "language_info": {
   "codemirror_mode": {
    "name": "ipython",
    "version": 3
   },
   "file_extension": ".py",
   "mimetype": "text/x-python",
   "name": "python",
   "nbconvert_exporter": "python",
   "pygments_lexer": "ipython3",
   "version": "3.7.3"
  }
 },
 "nbformat": 4,
 "nbformat_minor": 2
}
